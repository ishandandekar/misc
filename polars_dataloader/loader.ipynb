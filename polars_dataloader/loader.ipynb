{
 "cells": [
  {
   "cell_type": "code",
   "execution_count": 4,
   "metadata": {},
   "outputs": [
    {
     "name": "stdout",
     "output_type": "stream",
     "text": [
      "[PosixPath('/home/ishan/Desktop/programs/pythonfiles/misc/polars_dataloader/data/3.csv'), PosixPath('/home/ishan/Desktop/programs/pythonfiles/misc/polars_dataloader/data/2.csv'), PosixPath('/home/ishan/Desktop/programs/pythonfiles/misc/polars_dataloader/data/1.csv')]\n"
     ]
    }
   ],
   "source": [
    "from pathlib import Path\n",
    "\n",
    "data_path = Path.cwd() / \"data\"\n",
    "print(list(data_path.glob(pattern=\"*.csv\")))"
   ]
  },
  {
   "cell_type": "code",
   "execution_count": 6,
   "metadata": {},
   "outputs": [
    {
     "name": "stdout",
     "output_type": "stream",
     "text": [
      "<class 'polars.lazyframe.frame.LazyFrame'>\n"
     ]
    }
   ],
   "source": [
    "import polars as pl\n",
    "\n",
    "dataframes = list()\n",
    "for path in data_path.glob(pattern=\"*.csv\"):\n",
    "    df = pl.scan_csv(path, dtypes={\"TotalCharges\": pl.String}).with_columns(\n",
    "        pl.col(\"TotalCharges\").str.replace(pattern=\" \", value=\"0\").alias(\"TotalCharges\")\n",
    "    )\n",
    "    dataframes.append(df)\n",
    "dataframe = pl.concat(dataframes)\n",
    "print(type(dataframe))"
   ]
  },
  {
   "cell_type": "code",
   "execution_count": 11,
   "metadata": {},
   "outputs": [
    {
     "data": {
      "image/svg+xml": [
       "<svg xmlns=\"http://www.w3.org/2000/svg\" xmlns:xlink=\"http://www.w3.org/1999/xlink\" width=\"1571pt\" height=\"205pt\" viewBox=\"0.00 0.00 1571.00 205.00\">\n",
       "<g id=\"graph0\" class=\"graph\" transform=\"scale(1 1) rotate(0) translate(4 201)\">\n",
       "<title>polars_query</title>\n",
       "<polygon fill=\"white\" stroke=\"transparent\" points=\"-4,4 -4,-201 1567,-201 1567,4 -4,4\"/>\n",
       "<!-- UNION [(0, 0)] -->\n",
       "<g id=\"node1\" class=\"node\">\n",
       "<title>UNION [(0, 0)]</title>\n",
       "<polygon fill=\"none\" stroke=\"black\" points=\"811.5,-197 751.5,-197 751.5,-161 811.5,-161 811.5,-197\"/>\n",
       "<text text-anchor=\"middle\" x=\"781.5\" y=\"-175.3\" font-family=\"Times,serif\" font-size=\"14.00\">UNION</text>\n",
       "</g>\n",
       "<!-- WITH COLUMNS [&quot;TotalCharges&quot;] [(0, 1)] -->\n",
       "<g id=\"node2\" class=\"node\">\n",
       "<title>WITH COLUMNS [&quot;TotalCharges&quot;] [(0, 1)]</title>\n",
       "<polygon fill=\"none\" stroke=\"black\" points=\"509,-125 288,-125 288,-89 509,-89 509,-125\"/>\n",
       "<text text-anchor=\"middle\" x=\"398.5\" y=\"-103.3\" font-family=\"Times,serif\" font-size=\"14.00\">WITH COLUMNS [&quot;TotalCharges&quot;]</text>\n",
       "</g>\n",
       "<!-- UNION [(0, 0)]&#45;&#45;WITH COLUMNS [&quot;TotalCharges&quot;] [(0, 1)] -->\n",
       "<g id=\"edge1\" class=\"edge\">\n",
       "<title>UNION [(0, 0)]--WITH COLUMNS [&quot;TotalCharges&quot;] [(0, 1)]</title>\n",
       "<path fill=\"none\" stroke=\"black\" d=\"M751.45,-172.51C696.16,-162.4 576.25,-140.49 491.59,-125.01\"/>\n",
       "</g>\n",
       "<!-- WITH COLUMNS [&quot;TotalCharges&quot;] [(1, 1)] -->\n",
       "<g id=\"node4\" class=\"node\">\n",
       "<title>WITH COLUMNS [&quot;TotalCharges&quot;] [(1, 1)]</title>\n",
       "<polygon fill=\"none\" stroke=\"black\" points=\"892,-125 671,-125 671,-89 892,-89 892,-125\"/>\n",
       "<text text-anchor=\"middle\" x=\"781.5\" y=\"-103.3\" font-family=\"Times,serif\" font-size=\"14.00\">WITH COLUMNS [&quot;TotalCharges&quot;]</text>\n",
       "</g>\n",
       "<!-- UNION [(0, 0)]&#45;&#45;WITH COLUMNS [&quot;TotalCharges&quot;] [(1, 1)] -->\n",
       "<g id=\"edge3\" class=\"edge\">\n",
       "<title>UNION [(0, 0)]--WITH COLUMNS [&quot;TotalCharges&quot;] [(1, 1)]</title>\n",
       "<path fill=\"none\" stroke=\"black\" d=\"M781.5,-160.7C781.5,-149.85 781.5,-135.92 781.5,-125.1\"/>\n",
       "</g>\n",
       "<!-- WITH COLUMNS [&quot;TotalCharges&quot;] [(2, 1)] -->\n",
       "<g id=\"node6\" class=\"node\">\n",
       "<title>WITH COLUMNS [&quot;TotalCharges&quot;] [(2, 1)]</title>\n",
       "<polygon fill=\"none\" stroke=\"black\" points=\"1275,-125 1054,-125 1054,-89 1275,-89 1275,-125\"/>\n",
       "<text text-anchor=\"middle\" x=\"1164.5\" y=\"-103.3\" font-family=\"Times,serif\" font-size=\"14.00\">WITH COLUMNS [&quot;TotalCharges&quot;]</text>\n",
       "</g>\n",
       "<!-- UNION [(0, 0)]&#45;&#45;WITH COLUMNS [&quot;TotalCharges&quot;] [(2, 1)] -->\n",
       "<g id=\"edge5\" class=\"edge\">\n",
       "<title>UNION [(0, 0)]--WITH COLUMNS [&quot;TotalCharges&quot;] [(2, 1)]</title>\n",
       "<path fill=\"none\" stroke=\"black\" d=\"M811.55,-172.51C866.84,-162.4 986.75,-140.49 1071.41,-125.01\"/>\n",
       "</g>\n",
       "<!-- Csv SCAN /home/ishan/Desktop/programs/pythonfiles/misc/polars_dataloader/data/3.csv;\n",
       "π */21;\n",
       "σ &#45; [(0, 2)] -->\n",
       "<g id=\"node3\" class=\"node\">\n",
       "<title>Csv SCAN /home/ishan/Desktop/programs/pythonfiles/misc/polars_dataloader/data/3.csv;\n",
       "π */21;\n",
       "σ - [(0, 2)]</title>\n",
       "<polygon fill=\"none\" stroke=\"black\" points=\"509,-53 0,-53 0,0 509,0 509,-53\"/>\n",
       "<text text-anchor=\"middle\" x=\"254.5\" y=\"-37.8\" font-family=\"Times,serif\" font-size=\"14.00\">Csv SCAN /home/ishan/Desktop/programs/pythonfiles/misc/polars_dataloader/data/3.csv;</text>\n",
       "<text text-anchor=\"middle\" x=\"254.5\" y=\"-22.8\" font-family=\"Times,serif\" font-size=\"14.00\">π */21;</text>\n",
       "<text text-anchor=\"middle\" x=\"254.5\" y=\"-7.8\" font-family=\"Times,serif\" font-size=\"14.00\">σ -</text>\n",
       "</g>\n",
       "<!-- WITH COLUMNS [&quot;TotalCharges&quot;] [(0, 1)]&#45;&#45;Csv SCAN /home/ishan/Desktop/programs/pythonfiles/misc/polars_dataloader/data/3.csv;\n",
       "π */21;\n",
       "σ &#45; [(0, 2)] -->\n",
       "<g id=\"edge2\" class=\"edge\">\n",
       "<title>WITH COLUMNS [&quot;TotalCharges&quot;] [(0, 1)]--Csv SCAN /home/ishan/Desktop/programs/pythonfiles/misc/polars_dataloader/data/3.csv;\n",
       "π */21;\n",
       "σ - [(0, 2)]</title>\n",
       "<path fill=\"none\" stroke=\"black\" d=\"M367.25,-88.97C347.98,-78.46 322.9,-64.79 301.29,-53\"/>\n",
       "</g>\n",
       "<!-- Csv SCAN /home/ishan/Desktop/programs/pythonfiles/misc/polars_dataloader/data/2.csv;\n",
       "π */21;\n",
       "σ &#45; [(1, 2)] -->\n",
       "<g id=\"node5\" class=\"node\">\n",
       "<title>Csv SCAN /home/ishan/Desktop/programs/pythonfiles/misc/polars_dataloader/data/2.csv;\n",
       "π */21;\n",
       "σ - [(1, 2)]</title>\n",
       "<polygon fill=\"none\" stroke=\"black\" points=\"1036,-53 527,-53 527,0 1036,0 1036,-53\"/>\n",
       "<text text-anchor=\"middle\" x=\"781.5\" y=\"-37.8\" font-family=\"Times,serif\" font-size=\"14.00\">Csv SCAN /home/ishan/Desktop/programs/pythonfiles/misc/polars_dataloader/data/2.csv;</text>\n",
       "<text text-anchor=\"middle\" x=\"781.5\" y=\"-22.8\" font-family=\"Times,serif\" font-size=\"14.00\">π */21;</text>\n",
       "<text text-anchor=\"middle\" x=\"781.5\" y=\"-7.8\" font-family=\"Times,serif\" font-size=\"14.00\">σ -</text>\n",
       "</g>\n",
       "<!-- WITH COLUMNS [&quot;TotalCharges&quot;] [(1, 1)]&#45;&#45;Csv SCAN /home/ishan/Desktop/programs/pythonfiles/misc/polars_dataloader/data/2.csv;\n",
       "π */21;\n",
       "σ &#45; [(1, 2)] -->\n",
       "<g id=\"edge4\" class=\"edge\">\n",
       "<title>WITH COLUMNS [&quot;TotalCharges&quot;] [(1, 1)]--Csv SCAN /home/ishan/Desktop/programs/pythonfiles/misc/polars_dataloader/data/2.csv;\n",
       "π */21;\n",
       "σ - [(1, 2)]</title>\n",
       "<path fill=\"none\" stroke=\"black\" d=\"M781.5,-88.97C781.5,-78.51 781.5,-64.9 781.5,-53.16\"/>\n",
       "</g>\n",
       "<!-- Csv SCAN /home/ishan/Desktop/programs/pythonfiles/misc/polars_dataloader/data/1.csv;\n",
       "π */21;\n",
       "σ &#45; [(2, 2)] -->\n",
       "<g id=\"node7\" class=\"node\">\n",
       "<title>Csv SCAN /home/ishan/Desktop/programs/pythonfiles/misc/polars_dataloader/data/1.csv;\n",
       "π */21;\n",
       "σ - [(2, 2)]</title>\n",
       "<polygon fill=\"none\" stroke=\"black\" points=\"1563,-53 1054,-53 1054,0 1563,0 1563,-53\"/>\n",
       "<text text-anchor=\"middle\" x=\"1308.5\" y=\"-37.8\" font-family=\"Times,serif\" font-size=\"14.00\">Csv SCAN /home/ishan/Desktop/programs/pythonfiles/misc/polars_dataloader/data/1.csv;</text>\n",
       "<text text-anchor=\"middle\" x=\"1308.5\" y=\"-22.8\" font-family=\"Times,serif\" font-size=\"14.00\">π */21;</text>\n",
       "<text text-anchor=\"middle\" x=\"1308.5\" y=\"-7.8\" font-family=\"Times,serif\" font-size=\"14.00\">σ -</text>\n",
       "</g>\n",
       "<!-- WITH COLUMNS [&quot;TotalCharges&quot;] [(2, 1)]&#45;&#45;Csv SCAN /home/ishan/Desktop/programs/pythonfiles/misc/polars_dataloader/data/1.csv;\n",
       "π */21;\n",
       "σ &#45; [(2, 2)] -->\n",
       "<g id=\"edge6\" class=\"edge\">\n",
       "<title>WITH COLUMNS [&quot;TotalCharges&quot;] [(2, 1)]--Csv SCAN /home/ishan/Desktop/programs/pythonfiles/misc/polars_dataloader/data/1.csv;\n",
       "π */21;\n",
       "σ - [(2, 2)]</title>\n",
       "<path fill=\"none\" stroke=\"black\" d=\"M1195.75,-88.97C1215.02,-78.46 1240.1,-64.79 1261.71,-53\"/>\n",
       "</g>\n",
       "</g>\n",
       "</svg>"
      ],
      "text/plain": [
       "<IPython.core.display.SVG object>"
      ]
     },
     "metadata": {},
     "output_type": "display_data"
    }
   ],
   "source": [
    "dataframe.show_graph(figsize=(3, 5))"
   ]
  },
  {
   "cell_type": "code",
   "execution_count": null,
   "metadata": {},
   "outputs": [],
   "source": []
  }
 ],
 "metadata": {
  "kernelspec": {
   "display_name": "Python 3",
   "language": "python",
   "name": "python3"
  },
  "language_info": {
   "codemirror_mode": {
    "name": "ipython",
    "version": 3
   },
   "file_extension": ".py",
   "mimetype": "text/x-python",
   "name": "python",
   "nbconvert_exporter": "python",
   "pygments_lexer": "ipython3",
   "version": "3.10.13"
  }
 },
 "nbformat": 4,
 "nbformat_minor": 2
}
